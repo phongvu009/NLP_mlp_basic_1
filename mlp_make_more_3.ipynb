{
  "nbformat": 4,
  "nbformat_minor": 0,
  "metadata": {
    "colab": {
      "provenance": [],
      "authorship_tag": "ABX9TyNi/18hD/SSxtkaqrUrkmi5",
      "include_colab_link": true
    },
    "kernelspec": {
      "name": "python3",
      "display_name": "Python 3"
    },
    "language_info": {
      "name": "python"
    }
  },
  "cells": [
    {
      "cell_type": "markdown",
      "metadata": {
        "id": "view-in-github",
        "colab_type": "text"
      },
      "source": [
        "<a href=\"https://colab.research.google.com/github/phongvu009/NLP_mlp_basic_1/blob/main/mlp_make_more_3.ipynb\" target=\"_parent\"><img src=\"https://colab.research.google.com/assets/colab-badge.svg\" alt=\"Open In Colab\"/></a>"
      ]
    },
    {
      "cell_type": "code",
      "source": [
        "import torch\n",
        "import torch.nn.functional as F\n",
        "import matplotlib.pyplot as plt\n",
        "%matplotlib inline"
      ],
      "metadata": {
        "id": "YZzcCA7g7p7u"
      },
      "execution_count": null,
      "outputs": []
    },
    {
      "cell_type": "markdown",
      "source": [
        "## Data"
      ],
      "metadata": {
        "id": "KUB52Qde7cr9"
      }
    },
    {
      "cell_type": "code",
      "execution_count": null,
      "metadata": {
        "colab": {
          "base_uri": "https://localhost:8080/"
        },
        "id": "CN1AaTaR7Uyj",
        "outputId": "97bfed4e-8716-463e-a40b-db1c2c22f52d"
      },
      "outputs": [
        {
          "output_type": "execute_result",
          "data": {
            "text/plain": [
              "['emma', 'olivia', 'ava', 'isabella', 'sophia']"
            ]
          },
          "metadata": {},
          "execution_count": 121
        }
      ],
      "source": [
        "words = open('names.txt',mode='r').read().splitlines()\n",
        "words[:5]"
      ]
    },
    {
      "cell_type": "code",
      "source": [
        "#build alphabet\n",
        "alphabet = sorted(list(set(''.join(words))))\n",
        "\n",
        "#string to index\n",
        "stoi = {char:idx+1 for idx,char in enumerate(alphabet)}\n",
        "#add . character\n",
        "stoi['.'] = 0\n",
        "\n",
        "#index to string\n",
        "itos = {idx:char for char,idx in stoi.items()}\n",
        "print(itos)"
      ],
      "metadata": {
        "colab": {
          "base_uri": "https://localhost:8080/"
        },
        "id": "HBAjQtOC7_Df",
        "outputId": "c213c72e-ef5b-4a1b-c251-92eb9f789ef1"
      },
      "execution_count": null,
      "outputs": [
        {
          "output_type": "stream",
          "name": "stdout",
          "text": [
            "{1: 'a', 2: 'b', 3: 'c', 4: 'd', 5: 'e', 6: 'f', 7: 'g', 8: 'h', 9: 'i', 10: 'j', 11: 'k', 12: 'l', 13: 'm', 14: 'n', 15: 'o', 16: 'p', 17: 'q', 18: 'r', 19: 's', 20: 't', 21: 'u', 22: 'v', 23: 'w', 24: 'x', 25: 'y', 26: 'z', 0: '.'}\n"
          ]
        }
      ]
    },
    {
      "cell_type": "markdown",
      "source": [
        "## Build Dataset:"
      ],
      "metadata": {
        "id": "zTatGkRu8xzM"
      }
    },
    {
      "cell_type": "code",
      "source": [
        "import random"
      ],
      "metadata": {
        "id": "AxlbOrcU8t1k"
      },
      "execution_count": null,
      "outputs": []
    },
    {
      "cell_type": "code",
      "source": [
        "random.seed(42)\n",
        "random.shuffle(words)\n",
        "print(len(words))\n",
        "n1 = int(0.8 * len(words)) # idx number at 80% of data\n",
        "print(n1)\n",
        "n2 = int(0.9 * len(words))\n",
        "print(n2)"
      ],
      "metadata": {
        "colab": {
          "base_uri": "https://localhost:8080/"
        },
        "id": "KETbeoah85Bw",
        "outputId": "109ae816-8ed1-4c05-be8c-d0d28288364e"
      },
      "execution_count": null,
      "outputs": [
        {
          "output_type": "stream",
          "name": "stdout",
          "text": [
            "32033\n",
            "25626\n",
            "28829\n"
          ]
        }
      ]
    },
    {
      "cell_type": "code",
      "source": [
        "\n",
        "def build_dataset(words):\n",
        "  block_size = 3\n",
        "  X,Y = [],[]\n",
        "  for word in words:\n",
        "    context = [0] * block_size\n",
        "    for chr in word + '.':\n",
        "      #get index\n",
        "      idx = stoi[chr]\n",
        "      X.append(context)\n",
        "      Y.append(idx)\n",
        "      #update context\n",
        "      context = context[1:] + [idx]\n",
        "  #tranform to tensor\n",
        "  X = torch.tensor(X)\n",
        "  Y = torch.tensor(Y)\n",
        "  print(X.shape,Y.shape)\n",
        "  return X,Y"
      ],
      "metadata": {
        "id": "s8wvw2uI9gBL"
      },
      "execution_count": null,
      "outputs": []
    },
    {
      "cell_type": "code",
      "source": [
        "# 80% is training set\n",
        "X_train, Y_train = build_dataset(words[:n1])\n",
        "\n",
        "#10% is dev/evaluate set\n",
        "X_dev , Y_dev = build_dataset(words[n1:n2])\n",
        "\n",
        "#10% is testing set\n",
        "X_test, Y_test = build_dataset(words[n2:])"
      ],
      "metadata": {
        "colab": {
          "base_uri": "https://localhost:8080/"
        },
        "id": "fqX8AIyx-i-z",
        "outputId": "842789b5-e2f8-4979-aa8a-56b89163c963"
      },
      "execution_count": null,
      "outputs": [
        {
          "output_type": "stream",
          "name": "stdout",
          "text": [
            "torch.Size([182625, 3]) torch.Size([182625])\n",
            "torch.Size([22655, 3]) torch.Size([22655])\n",
            "torch.Size([22866, 3]) torch.Size([22866])\n"
          ]
        }
      ]
    },
    {
      "cell_type": "markdown",
      "source": [
        "## Initialize Weights"
      ],
      "metadata": {
        "id": "pNm3i7wnAdEb"
      }
    },
    {
      "cell_type": "code",
      "source": [
        "g = torch.Generator().manual_seed(2147483647)\n",
        "\n",
        "#Embbeding layer : 10 features\n",
        "C = torch.randn( (27,10), generator=g)\n",
        "\n",
        "#Hidden Layer 1\n",
        "W1 = torch.randn( (30,200), generator=g)\n",
        "b1 = torch.randn( 200 ,generator=g)\n",
        "\n",
        "#output layer\n",
        "W2 = torch.randn( (200,27), generator=g)\n",
        "b2 = torch.randn( 27, generator=g)\n",
        "\n",
        "parameters = [C,W1,b1,W2,b2]"
      ],
      "metadata": {
        "id": "Ga0rL_Y3AHew"
      },
      "execution_count": null,
      "outputs": []
    },
    {
      "cell_type": "code",
      "source": [
        "sum(p.nelement() for p in parameters)"
      ],
      "metadata": {
        "colab": {
          "base_uri": "https://localhost:8080/"
        },
        "id": "ouppfDKjBj_P",
        "outputId": "44daec50-94df-4e39-9647-d5634c08dea1"
      },
      "execution_count": null,
      "outputs": [
        {
          "output_type": "execute_result",
          "data": {
            "text/plain": [
              "11897"
            ]
          },
          "metadata": {},
          "execution_count": 128
        }
      ]
    },
    {
      "cell_type": "markdown",
      "source": [
        "## Training"
      ],
      "metadata": {
        "id": "2mChx3BzBy3v"
      }
    },
    {
      "cell_type": "code",
      "source": [
        "# require gradient tracking:\n",
        "for p in parameters:\n",
        "  p.requires_grad = True"
      ],
      "metadata": {
        "id": "h56CvVcHBpWN"
      },
      "execution_count": null,
      "outputs": []
    },
    {
      "cell_type": "code",
      "source": [
        "lre = torch.linspace(-3, 0 , 1000)\n",
        "lrs = 10**lre"
      ],
      "metadata": {
        "id": "tjsnYrtyB-GJ"
      },
      "execution_count": null,
      "outputs": []
    },
    {
      "cell_type": "code",
      "source": [
        "\n",
        "lossi = []\n",
        "stepi = []"
      ],
      "metadata": {
        "id": "3hpzjBs-EXGG"
      },
      "execution_count": null,
      "outputs": []
    },
    {
      "cell_type": "code",
      "source": [
        "\n",
        "for i in range(200000):\n",
        "  #create mini-batch\n",
        "  batch = torch.randint(0, X_train.shape[0], (32,))\n",
        "  #forward pass\n",
        "  #embedding\n",
        "  emb = C[X_train[batch]]\n",
        "  before_h = emb.view(-1,30) @ W1 + b1\n",
        "  h = torch.tanh(before_h)\n",
        "  logits = h @ W2 + b2\n",
        "  loss = F.cross_entropy(logits,Y_train[batch])\n",
        "  #backward pass\n",
        "  for p in parameters: #reset gradient\n",
        "    p.grad = None\n",
        "  loss.backward()\n",
        "  #update\n",
        "  lr = 0.1 if i < 100000 else 0.01 # use flex learning rate\n",
        "  for p in parameters:\n",
        "    p.data += -lr * p.grad\n",
        "  #track stats\n",
        "  lossi.append(loss.log10().item())\n",
        "  stepi.append(i)\n",
        "print(f'loss is : {loss.item()}')\n"
      ],
      "metadata": {
        "colab": {
          "base_uri": "https://localhost:8080/"
        },
        "id": "mOZqnBiYCHtC",
        "outputId": "fd0d74b0-93aa-46d0-9459-060504223298"
      },
      "execution_count": null,
      "outputs": [
        {
          "output_type": "stream",
          "name": "stdout",
          "text": [
            "loss is : 2.046438217163086\n"
          ]
        }
      ]
    },
    {
      "cell_type": "code",
      "source": [
        "plt.plot(stepi,lossi)"
      ],
      "metadata": {
        "colab": {
          "base_uri": "https://localhost:8080/",
          "height": 448
        },
        "id": "RnawWtP0D9E-",
        "outputId": "bbdde995-bfbd-4964-d626-6f7383217c94"
      },
      "execution_count": null,
      "outputs": [
        {
          "output_type": "execute_result",
          "data": {
            "text/plain": [
              "[<matplotlib.lines.Line2D at 0x7f7955c60400>]"
            ]
          },
          "metadata": {},
          "execution_count": 133
        },
        {
          "output_type": "display_data",
          "data": {
            "text/plain": [
              "<Figure size 640x480 with 1 Axes>"
            ],
            "image/png": "[encoded data removed]"
          },
          "metadata": {}
        }
      ]
    },
    {
      "cell_type": "markdown",
      "source": [
        "## Evaluate Model"
      ],
      "metadata": {
        "id": "kyjXcXu6GDzx"
      }
    },
    {
      "cell_type": "code",
      "source": [
        "emb = C[X_train]\n",
        "h = torch.tanh(emb.view(-1,30) @ W1 + b1)\n",
        "logits = h @ W2 + b2\n",
        "loss = F.cross_entropy(logits,Y_train)\n",
        "print(loss)"
      ],
      "metadata": {
        "colab": {
          "base_uri": "https://localhost:8080/"
        },
        "id": "1nlCG0BCG-yi",
        "outputId": "55013e28-a6f4-4156-8b8c-a2c5058fc095"
      },
      "execution_count": null,
      "outputs": [
        {
          "output_type": "stream",
          "name": "stdout",
          "text": [
            "tensor(2.1507, grad_fn=<NllLossBackward0>)\n"
          ]
        }
      ]
    },
    {
      "cell_type": "code",
      "source": [
        "emb = C[X_dev]\n",
        "h = torch.tanh(emb.view(-1,30) @ W1 + b1)\n",
        "logits = h @ W2 + b2\n",
        "loss = F.cross_entropy(logits,Y_dev)\n",
        "loss"
      ],
      "metadata": {
        "colab": {
          "base_uri": "https://localhost:8080/"
        },
        "id": "GfOcKo6oGDXV",
        "outputId": "ca0947ae-a709-4059-eb12-57e6ca8141c8"
      },
      "execution_count": null,
      "outputs": [
        {
          "output_type": "execute_result",
          "data": {
            "text/plain": [
              "tensor(2.1810, grad_fn=<NllLossBackward0>)"
            ]
          },
          "metadata": {},
          "execution_count": 135
        }
      ]
    },
    {
      "cell_type": "code",
      "source": [],
      "metadata": {
        "id": "Rwq5AJzYF4hR"
      },
      "execution_count": null,
      "outputs": []
    },
    {
      "cell_type": "markdown",
      "source": [
        "## Get Sample After Training"
      ],
      "metadata": {
        "id": "KBTkKlcfIniL"
      }
    },
    {
      "cell_type": "code",
      "source": [
        "block_size = 3\n",
        "context  = [0] * block_size\n",
        "print(context)\n",
        "print(f'C shape : {C.shape}')\n",
        "x_sample = C[torch.tensor([context])]\n",
        "print(f'input shape: {x_sample.shape}')\n",
        "print(f'transform input shape : {x_sample.view(1,-1).shape}')\n",
        "x_sample.shape"
      ],
      "metadata": {
        "colab": {
          "base_uri": "https://localhost:8080/"
        },
        "id": "ScWPR6IJJUdb",
        "outputId": "fd9df4e3-6fd5-49e3-9009-7e28fd36d08d"
      },
      "execution_count": null,
      "outputs": [
        {
          "output_type": "stream",
          "name": "stdout",
          "text": [
            "[0, 0, 0]\n",
            "C shape : torch.Size([27, 10])\n",
            "input shape: torch.Size([1, 3, 10])\n",
            "transform input shape : torch.Size([1, 30])\n"
          ]
        },
        {
          "output_type": "execute_result",
          "data": {
            "text/plain": [
              "torch.Size([1, 3, 10])"
            ]
          },
          "metadata": {},
          "execution_count": 136
        }
      ]
    },
    {
      "cell_type": "code",
      "source": [
        "x = torch.tensor( [ [0.1,0.2,0], [0,0,0]])\n",
        "print(x)\n",
        "print(x.shape)\n",
        "print(x.shape[0])"
      ],
      "metadata": {
        "colab": {
          "base_uri": "https://localhost:8080/"
        },
        "id": "vVxQp4n8M_aK",
        "outputId": "499ebf3c-e998-419a-9d11-79bd25717f56"
      },
      "execution_count": null,
      "outputs": [
        {
          "output_type": "stream",
          "name": "stdout",
          "text": [
            "tensor([[0.1000, 0.2000, 0.0000],\n",
            "        [0.0000, 0.0000, 0.0000]])\n",
            "torch.Size([2, 3])\n",
            "2\n"
          ]
        }
      ]
    },
    {
      "cell_type": "code",
      "source": [
        "#sample\n",
        "g = torch.Generator().manual_seed(2147483647 + 10)\n",
        "for _ in range(20):\n",
        "  out = []\n",
        "  context = [0] * block_size\n",
        "\n",
        "  while True:\n",
        "    emb = C[torch.tensor([context])]\n",
        "    h = torch.tanh(emb.view(1, -1) @ W1 + b1)\n",
        "    logits = h @ W2 + b2\n",
        "    probs = F.softmax(logits,dim=1) #compute softmax of columnsalong each row\n",
        "    #sample from distribution\n",
        "    ix = torch.multinomial(probs,num_samples=1, generator=g).item()\n",
        "    out.append(ix)\n",
        "    context = context[1:] + [ix]\n",
        "    if ix == 0:\n",
        "      break\n",
        "\n",
        "  word_pred = ''.join(itos[i] for i in out)\n",
        "  print(word_pred)"
      ],
      "metadata": {
        "colab": {
          "base_uri": "https://localhost:8080/"
        },
        "id": "Bl_wbHK9IrCv",
        "outputId": "650f7af9-4ed1-4387-bdad-6621c309a619"
      },
      "execution_count": null,
      "outputs": [
        {
          "output_type": "stream",
          "name": "stdout",
          "text": [
            "mora.\n",
            "mayah.\n",
            "seel.\n",
            "nihah.\n",
            "lorethrusendrari.\n",
            "azeerdielin.\n",
            "shi.\n",
            "jen.\n",
            "eden.\n",
            "estanareelyn.\n",
            "malkes.\n",
            "noshdenrishiriel.\n",
            "kinleenellennteromi.\n",
            "brence.\n",
            "riyah.\n",
            "fiel.\n",
            "yule.\n",
            "mis.\n",
            "kyla.\n",
            "hil.\n"
          ]
        }
      ]
    },
    {
      "cell_type": "code",
      "source": [],
      "metadata": {
        "id": "BxD_j-j7ZIS8"
      },
      "execution_count": null,
      "outputs": []
    }
  ]
}